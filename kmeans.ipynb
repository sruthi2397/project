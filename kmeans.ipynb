{
  "nbformat": 4,
  "nbformat_minor": 0,
  "metadata": {
    "colab": {
      "name": "kmeans.ipynb",
      "version": "0.3.2",
      "provenance": [],
      "collapsed_sections": [],
      "include_colab_link": true
    },
    "kernelspec": {
      "name": "python3",
      "display_name": "Python 3"
    }
  },
  "cells": [
    {
      "cell_type": "markdown",
      "metadata": {
        "id": "view-in-github",
        "colab_type": "text"
      },
      "source": [
        "<a href=\"https://colab.research.google.com/github/sruthi2397/project/blob/master/kmeans.ipynb\" target=\"_parent\"><img src=\"https://colab.research.google.com/assets/colab-badge.svg\" alt=\"Open In Colab\"/></a>"
      ]
    },
    {
      "metadata": {
        "id": "9f8DDpth1E_k",
        "colab_type": "code",
        "colab": {}
      },
      "cell_type": "code",
      "source": [
        "from sklearn.cluster import KMeans\n",
        "import pandas as pd\n",
        "import numpy as np\n",
        "import matplotlib.pyplot as plt\n",
        "\n"
      ],
      "execution_count": 0,
      "outputs": []
    },
    {
      "metadata": {
        "id": "m6pfEeas3JZW",
        "colab_type": "code",
        "colab": {
          "base_uri": "https://localhost:8080/",
          "height": 136
        },
        "outputId": "b3d624ea-2c05-4a21-9270-55f845efdc1a"
      },
      "cell_type": "code",
      "source": [
        "data = pd.read_excel('dec22h.xlsx')\n",
        "print(data.shape)\n",
        "print(data.head())"
      ],
      "execution_count": 17,
      "outputs": [
        {
          "output_type": "stream",
          "text": [
            "(2125, 5)\n",
            "   calling_party  0h to 5h  6h to 11h  12h to 17h  18h to 23h\n",
            "0         131424       593       2478           0           0\n",
            "1         131452      1102          0           0           0\n",
            "2         131546      1428          0           0        2490\n",
            "3         131609      1028       2617           0           0\n",
            "4         131760         0          0           0         528\n"
          ],
          "name": "stdout"
        }
      ]
    },
    {
      "metadata": {
        "id": "iN63Y1-N3LIO",
        "colab_type": "code",
        "colab": {
          "base_uri": "https://localhost:8080/",
          "height": 119
        },
        "outputId": "4365f358-91ef-4685-d630-d9d92c2b5906"
      },
      "cell_type": "code",
      "source": [
        "data.columns=['calling_party',0,1,2,3]\n",
        "X=data.iloc[:,1:5]\n",
        "print(X.head())"
      ],
      "execution_count": 18,
      "outputs": [
        {
          "output_type": "stream",
          "text": [
            "      0     1  2     3\n",
            "0   593  2478  0     0\n",
            "1  1102     0  0     0\n",
            "2  1428     0  0  2490\n",
            "3  1028  2617  0     0\n",
            "4     0     0  0   528\n"
          ],
          "name": "stdout"
        }
      ]
    },
    {
      "metadata": {
        "id": "t9DfoLHT3s_X",
        "colab_type": "code",
        "colab": {
          "base_uri": "https://localhost:8080/",
          "height": 34
        },
        "outputId": "80a7778e-e5b0-4f38-989a-3b51de011662"
      },
      "cell_type": "code",
      "source": [
        "from sklearn.model_selection import train_test_split\n",
        "clus_train,clus_test=train_test_split(X,test_size=.3,random_state=123)\n",
        "import collections\n",
        "#from sklearn.cluster import KMeans\n",
        "from matplotlib import cm\n",
        "from sklearn.decomposition import PCA\n",
        "from sklearn.metrics import silhouette_samples\n",
        "pca = PCA(n_components = 4, random_state=1)\n",
        "X_pca = pca.fit_transform(X)\n",
        "\n",
        "print('Explained Variance Ratio : ' + str(pca.explained_variance_ratio_.cumsum()[1]))"
      ],
      "execution_count": 19,
      "outputs": [
        {
          "output_type": "stream",
          "text": [
            "Explained Variance Ratio : 0.8926528012578538\n"
          ],
          "name": "stdout"
        }
      ]
    },
    {
      "metadata": {
        "id": "JUW44IdF4u5w",
        "colab_type": "code",
        "colab": {
          "base_uri": "https://localhost:8080/",
          "height": 372
        },
        "outputId": "a4b47f32-e743-405d-881c-9a0c066fe0ad"
      },
      "cell_type": "code",
      "source": [
        "distortions = []\n",
        "K_to_try = range(1, 6)\n",
        "\n",
        "for i in K_to_try:\n",
        "    model = KMeans(\n",
        "            n_clusters=i,\n",
        "            init='k-means++',\n",
        "            # n_init=10,\n",
        "            # max_iter=300,\n",
        "            # n_jobs=-1,\n",
        "            random_state=1)\n",
        "    model.fit(X_pca)\n",
        "    distortions.append(model.inertia_)\n",
        "\n",
        "plt.plot(K_to_try, distortions, marker='o')\n",
        "plt.xlabel('Number of Clusters (k)')\n",
        "plt.ylabel('Distortion')\n",
        "plt.savefig(\"kcluster.png\")\n",
        "plt.show()"
      ],
      "execution_count": 20,
      "outputs": [
        {
          "output_type": "display_data",
          "data": {
            "image/png": "[encoded data removed]",
            "text/plain": [
              "<Figure size 576x396 with 1 Axes>"
            ]
          },
          "metadata": {
            "tags": []
          }
        }
      ]
    },
    {
      "metadata": {
        "id": "oj3FHt2I4z8Y",
        "colab_type": "code",
        "colab": {
          "base_uri": "https://localhost:8080/",
          "height": 376
        },
        "outputId": "3232af25-258d-4209-9d28-ba97bd0f6559"
      },
      "cell_type": "code",
      "source": [
        "model = KMeans(\n",
        "    n_clusters=3,\n",
        "    init='k-means++',\n",
        "    # n_init=10,\n",
        "    # max_iter=300,\n",
        "    # n_jobs=-1,\n",
        "    random_state=1)\n",
        "\n",
        "model = model.fit(X_pca)\n",
        "\n",
        "y = model.predict(X_pca)\n",
        "\n",
        "plt.scatter(X_pca[y == 0, 0], X_pca[y == 0, 1], s = 50, c = 'yellow', label = 'Cluster 1')\n",
        "plt.scatter(X_pca[y == 1, 0], X_pca[y == 1, 1], s = 50, c = 'green', label = 'Cluster 2')\n",
        "plt.scatter(X_pca[y == 2, 0], X_pca[y == 2, 1], s = 50, c = 'red', label = 'Cluster 3')\n",
        "plt.scatter(model.cluster_centers_[:, 0], model.cluster_centers_[:, 1], s = 100, c = 'blue', label = 'Centroids')\n",
        "plt.title('Clusters of Students')\n",
        "plt.xlabel('Principle Component 1')\n",
        "plt.ylabel('Principle Component 2')\n",
        "plt.legend()\n",
        "plt.grid()\n",
        "plt.savefig(\"kcluster2.png\")\n",
        "plt.show()"
      ],
      "execution_count": 21,
      "outputs": [
        {
          "output_type": "display_data",
          "data": {
            "image/png": "[encoded data removed]",
            "text/plain": [
              "<Figure size 576x396 with 1 Axes>"
            ]
          },
          "metadata": {
            "tags": []
          }
        }
      ]
    },
    {
      "metadata": {
        "id": "fNMkEeT25PII",
        "colab_type": "code",
        "colab": {
          "base_uri": "https://localhost:8080/",
          "height": 395
        },
        "outputId": "660a71f1-9160-4523-a841-44ae2e02c546"
      },
      "cell_type": "code",
      "source": [
        "print('K Means Result : ')\n",
        "print(collections.Counter(y))\n",
        "\n",
        "cluster_labels = np.unique(y)\n",
        "n_clusters = cluster_labels.shape[0]\n",
        "silhouette_vals = silhouette_samples(X_pca, y, metric='euclidean')\n",
        "\n",
        "y_ax_lower, y_ax_upper = 0, 0\n",
        "yticks = []\n",
        "for i, c in enumerate(cluster_labels):\n",
        "    c_silhouette_vals = silhouette_vals[y == c]\n",
        "    c_silhouette_vals.sort()\n",
        "    y_ax_upper += len(c_silhouette_vals)\n",
        "    color = cm.jet(float(i) / n_clusters)\n",
        "    plt.barh(range(y_ax_lower, y_ax_upper),\n",
        "            c_silhouette_vals,\n",
        "            height=1.0,\n",
        "            edgecolor='none',\n",
        "            color=color)\n",
        "    yticks.append((y_ax_lower + y_ax_upper) / 2.)\n",
        "    y_ax_lower += len(c_silhouette_vals)\n",
        "silhouette_avg = np.mean(silhouette_vals)\n",
        "\n",
        "plt.axvline(silhouette_avg, color=\"red\", linestyle=\"--\")\n",
        "plt.yticks(yticks, cluster_labels + 1)\n",
        "plt.ylabel('Cluster')\n",
        "plt.xlabel('Silhouette coefficient')\n",
        "plt.savefig(\"silhouette.png\")\n",
        "plt.show()"
      ],
      "execution_count": 22,
      "outputs": [
        {
          "output_type": "stream",
          "text": [
            "K Means Result : \n",
            "Counter({0: 2030, 2: 63, 1: 32})\n"
          ],
          "name": "stdout"
        },
        {
          "output_type": "display_data",
          "data": {
            "image/png": "[encoded data removed]",
            "text/plain": [
              "<Figure size 576x396 with 1 Axes>"
            ]
          },
          "metadata": {
            "tags": []
          }
        }
      ]
    },
    {
      "metadata": {
        "id": "FSo-ZiUG5ZvR",
        "colab_type": "code",
        "colab": {
          "base_uri": "https://localhost:8080/",
          "height": 51
        },
        "outputId": "32dc07da-d308-47e2-c12e-8f28234909e6"
      },
      "cell_type": "code",
      "source": [
        "model_k = KMeans(\n",
        "    n_clusters=3,\n",
        "    init='k-means++',\n",
        "    \n",
        "    random_state=1)\n",
        "\n",
        "# fit with X instead of X_pca\n",
        "model_k = model_k.fit(X)\n",
        "\n",
        "y_final = model_k.predict(X)\n",
        "#from sklearn.externals import joblib\n",
        "#joblib.dump(model_k,'model.pkl')\n",
        "\n",
        "print('Final K Means Result (no PCA) : ')\n",
        "print(collections.Counter(y_final))\n"
      ],
      "execution_count": 23,
      "outputs": [
        {
          "output_type": "stream",
          "text": [
            "Final K Means Result (no PCA) : \n",
            "Counter({0: 2030, 2: 63, 1: 32})\n"
          ],
          "name": "stdout"
        }
      ]
    },
    {
      "metadata": {
        "id": "PzNhvd3f58jA",
        "colab_type": "code",
        "colab": {
          "base_uri": "https://localhost:8080/",
          "height": 68
        },
        "outputId": "daf835db-af06-4e82-84a9-cb238ff5260f"
      },
      "cell_type": "code",
      "source": [
        "y_final = pd.DataFrame(y_final, columns=['cluster'])\n",
        "\n",
        "raw_result = pd.concat([X, y_final], axis=1)\n",
        "\n",
        "y = pd.DataFrame(y, columns=['cluster'])\n",
        "raw_result_pca = pd.concat([X, y], axis=1)\n",
        "\n",
        "# raw_result.to_csv('YOUR_PATH/output/raw_result.csv', index=False)\n",
        "# raw_result_pca.to_csv('YOUR_PATH/output/raw_result_pca.csv', index=False)\n",
        "\n",
        "mean_by_student_1 = raw_result[raw_result['cluster']==0].iloc[:, 0:28].mean(axis = 1)\n",
        "\n",
        "mean_by_student_2 = raw_result[raw_result['cluster']==1].iloc[:, 0:28].mean(axis = 1)\n",
        "\n",
        "mean_by_student_3 = raw_result[raw_result['cluster']==2].iloc[:, 0:28].mean(axis = 1)\n",
        "\n",
        "print('Mean cluster 1 : ' + str(mean_by_student_1.mean()) + ',STD :' + str(mean_by_student_1.std()))\n",
        "print('Mean cluster 2 : ' + str(mean_by_student_2.mean()) + ',STD :' + str(mean_by_student_2.std()))\n",
        "print('Mean cluster 3 : ' + str(mean_by_student_3.mean()) + ',STD :' + str(mean_by_student_3.std()))"
      ],
      "execution_count": 24,
      "outputs": [
        {
          "output_type": "stream",
          "text": [
            "Mean cluster 1 : 71.80512315270933,STD :60.4800181932032\n",
            "Mean cluster 2 : 744.4875000000002,STD :356.07248605105764\n",
            "Mean cluster 3 : 513.1079365079364,STD :301.6456665722257\n"
          ],
          "name": "stdout"
        }
      ]
    }
  ]
}